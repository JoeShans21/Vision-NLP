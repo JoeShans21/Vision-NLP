{
  "nbformat": 4,
  "nbformat_minor": 0,
  "metadata": {
    "colab": {
      "provenance": [],
      "authorship_tag": "ABX9TyNfd58eqhND8LUruTGsqZGg",
      "include_colab_link": true
    },
    "kernelspec": {
      "name": "python3",
      "display_name": "Python 3"
    },
    "language_info": {
      "name": "python"
    }
  },
  "cells": [
    {
      "cell_type": "markdown",
      "metadata": {
        "id": "view-in-github",
        "colab_type": "text"
      },
      "source": [
        "<a href=\"https://colab.research.google.com/github/JoeShans21/Vision-NLP/blob/main/CV_%2B_NLP.ipynb\" target=\"_parent\"><img src=\"https://colab.research.google.com/assets/colab-badge.svg\" alt=\"Open In Colab\"/></a>"
      ]
    },
    {
      "cell_type": "code",
      "source": [
        "!pip install GoogleBard\n",
        "!pip install imageai"
      ],
      "metadata": {
        "colab": {
          "base_uri": "https://localhost:8080/"
        },
        "id": "INYJnIkG_Cw3",
        "outputId": "e43dda00-8785-4399-837a-b89933bc9414"
      },
      "execution_count": 2,
      "outputs": [
        {
          "output_type": "stream",
          "name": "stdout",
          "text": [
            "Collecting GoogleBard\n",
            "  Downloading GoogleBard-2.1.0-py3-none-any.whl (6.3 kB)\n",
            "Requirement already satisfied: prompt-toolkit in /usr/local/lib/python3.10/dist-packages (from GoogleBard) (3.0.43)\n",
            "Requirement already satisfied: rich in /usr/local/lib/python3.10/dist-packages (from GoogleBard) (13.7.0)\n",
            "Collecting httpx[socks] (from GoogleBard)\n",
            "  Downloading httpx-0.26.0-py3-none-any.whl (75 kB)\n",
            "\u001b[2K     \u001b[90m━━━━━━━━━━━━━━━━━━━━━━━━━━━━━━━━━━━━━━━━\u001b[0m \u001b[32m75.9/75.9 kB\u001b[0m \u001b[31m2.1 MB/s\u001b[0m eta \u001b[36m0:00:00\u001b[0m\n",
            "\u001b[?25hRequirement already satisfied: anyio in /usr/local/lib/python3.10/dist-packages (from httpx[socks]->GoogleBard) (3.7.1)\n",
            "Requirement already satisfied: certifi in /usr/local/lib/python3.10/dist-packages (from httpx[socks]->GoogleBard) (2023.11.17)\n",
            "Collecting httpcore==1.* (from httpx[socks]->GoogleBard)\n",
            "  Downloading httpcore-1.0.2-py3-none-any.whl (76 kB)\n",
            "\u001b[2K     \u001b[90m━━━━━━━━━━━━━━━━━━━━━━━━━━━━━━━━━━━━━━━━\u001b[0m \u001b[32m76.9/76.9 kB\u001b[0m \u001b[31m8.9 MB/s\u001b[0m eta \u001b[36m0:00:00\u001b[0m\n",
            "\u001b[?25hRequirement already satisfied: idna in /usr/local/lib/python3.10/dist-packages (from httpx[socks]->GoogleBard) (3.6)\n",
            "Requirement already satisfied: sniffio in /usr/local/lib/python3.10/dist-packages (from httpx[socks]->GoogleBard) (1.3.0)\n",
            "Collecting socksio==1.* (from httpx[socks]->GoogleBard)\n",
            "  Downloading socksio-1.0.0-py3-none-any.whl (12 kB)\n",
            "Collecting h11<0.15,>=0.13 (from httpcore==1.*->httpx[socks]->GoogleBard)\n",
            "  Downloading h11-0.14.0-py3-none-any.whl (58 kB)\n",
            "\u001b[2K     \u001b[90m━━━━━━━━━━━━━━━━━━━━━━━━━━━━━━━━━━━━━━━━\u001b[0m \u001b[32m58.3/58.3 kB\u001b[0m \u001b[31m7.4 MB/s\u001b[0m eta \u001b[36m0:00:00\u001b[0m\n",
            "\u001b[?25hRequirement already satisfied: wcwidth in /usr/local/lib/python3.10/dist-packages (from prompt-toolkit->GoogleBard) (0.2.13)\n",
            "Requirement already satisfied: markdown-it-py>=2.2.0 in /usr/local/lib/python3.10/dist-packages (from rich->GoogleBard) (3.0.0)\n",
            "Requirement already satisfied: pygments<3.0.0,>=2.13.0 in /usr/local/lib/python3.10/dist-packages (from rich->GoogleBard) (2.16.1)\n",
            "Requirement already satisfied: mdurl~=0.1 in /usr/local/lib/python3.10/dist-packages (from markdown-it-py>=2.2.0->rich->GoogleBard) (0.1.2)\n",
            "Requirement already satisfied: exceptiongroup in /usr/local/lib/python3.10/dist-packages (from anyio->httpx[socks]->GoogleBard) (1.2.0)\n",
            "Installing collected packages: socksio, h11, httpcore, httpx, GoogleBard\n",
            "Successfully installed GoogleBard-2.1.0 h11-0.14.0 httpcore-1.0.2 httpx-0.26.0 socksio-1.0.0\n",
            "Collecting imageai\n",
            "  Downloading imageai-3.0.3-py3-none-any.whl (69 kB)\n",
            "\u001b[2K     \u001b[90m━━━━━━━━━━━━━━━━━━━━━━━━━━━━━━━━━━━━━━━━\u001b[0m \u001b[32m69.8/69.8 kB\u001b[0m \u001b[31m1.6 MB/s\u001b[0m eta \u001b[36m0:00:00\u001b[0m\n",
            "\u001b[?25hInstalling collected packages: imageai\n",
            "Successfully installed imageai-3.0.3\n"
          ]
        }
      ]
    },
    {
      "cell_type": "code",
      "execution_count": 9,
      "metadata": {
        "colab": {
          "base_uri": "https://localhost:8080/"
        },
        "id": "H2V-8TlV-b_M",
        "outputId": "83e43486-da69-43f6-a549-325044c8cebb"
      },
      "outputs": [
        {
          "output_type": "stream",
          "name": "stdout",
          "text": [
            "/content\n",
            "person  :  100.0  :  [7, 732, 1229, 4032]\n",
            "--------------------------------\n",
            "person  :  100.0  :  [937, 847, 2900, 3939]\n",
            "--------------------------------\n",
            "cup  :  99.9  :  [2094, 2093, 2290, 2363]\n",
            "--------------------------------\n",
            "In a bustling city that hummed like a hive, two figures met at a corner cafe. One, a woman with eyes as green as spring grass, the other, a man with hair the color of storm clouds. Between them sat a simple white cup, a canvas waiting to be splashed with the colors of their encounter.\n",
            "\n",
            "\n",
            "\n",
            "They sipped their coffee, black and bitter for her, milky and sweet for him. The steam danced a silent ballet, swirling stories they hadn't yet shared. Her fingers, slender and strong, traced the rim of her cup, leaving behind a trail of warmth. His thumb stroked the worn leather of his notebook, where dreams lay dormant.\n",
            "\n",
            "The clatter of spoons against porcelain punctuated the city's symphony. He spoke first, his voice a low rumble, telling of sun-baked plains and star-studded nights. She listened, eyes wide, the city lights reflected in their green depths. The cup, now empty, held the echo of his laughter, the warmth of his smile.\n",
            "\n",
            "Then, her voice, a melody woven from moonlight and city rain, painted pictures of towering skyscrapers and hidden alleyway gardens. He leaned in, captivated, the steam carrying her words, weaving them into the fabric of his dreams. The cup, a silent witness, brimmed with unspoken promises, with hopes whispered on the city's breath.\n",
            "\n",
            "Time danced a waltz around them, oblivious to the city's frantic pace. The cup, once a vessel for caffeine, now overflowed with unspoken emotions. In its reflection, two pairs of eyes met, sharing secrets only they could understand.\n",
            "\n",
            "As the cafe lights dimmed, casting long shadows, they knew it was time to leave. A touch of fingers, brief and electric, sent tremors through their souls. The cup, left behind, held the ghost of their connection, a promise etched in condensation.\n",
            "\n",
            "They stepped out into the city, the cool night air washing away the warmth of the cafe. But the embers of their encounter flickered within them, a story written in stolen glances and shared cups, waiting to be retold under the city's watchful gaze. The cup, a simple white vessel, now held a universe of unspoken words, a testament to the quiet magic that bloomed even in the concrete jungle's heart.\n",
            "\n",
            "\n"
          ]
        }
      ],
      "source": [
        "from imageai.Detection import ObjectDetection\n",
        "import os\n",
        "from Bard import Chatbot\n",
        "import nest_asyncio\n",
        "nest_asyncio.apply()\n",
        "\n",
        "Secure_1PSID = 'fQiF14-dXp4glpkw4sSa2n7UcgifxXsUAl0zpV82QTr8tWPI_AzVlo5RXiEkY7Uo61HJuQ.'\n",
        "Secure_1PSIDTS = 'sidts-CjIBPVxjSkU2C41NZJQ5fnh4gmnK4aT1pRe81wxVU1LJnYMXmNXYjyLX4lEEkFv-09bxzRAA'\n",
        "\n",
        "execution_path = os.getcwd()\n",
        "print(execution_path)\n",
        "\n",
        "detector = ObjectDetection()\n",
        "detector.setModelTypeAsYOLOv3()\n",
        "detector.setModelPath(\"yolov3.pt\")\n",
        "detector.loadModel()\n",
        "\n",
        "detections = detector.detectObjectsFromImage(input_image=os.path.join(execution_path , \"image.jpg\"), output_image_path=os.path.join(execution_path , \"imagenew.jpg\"))\n",
        "\n",
        "labels = \"\"\n",
        "\n",
        "for eachObject in detections:\n",
        "    print(eachObject[\"name\"] , \" : \", eachObject[\"percentage_probability\"], \" : \", eachObject[\"box_points\"] )\n",
        "    print(\"--------------------------------\")\n",
        "    labels = labels + eachObject[\"name\"] + \", \"\n",
        "\n",
        "chatbot = Chatbot(Secure_1PSID, Secure_1PSIDTS)\n",
        "query = \"You are a visual storyteller. Tell a 300 word story with the objects: \" + labels\n",
        "answer = chatbot.ask(query)\n",
        "print(answer['content'])"
      ]
    }
  ]
}